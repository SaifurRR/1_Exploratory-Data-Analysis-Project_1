{
 "cells": [
  {
   "cell_type": "markdown",
   "id": "f66ba960",
   "metadata": {},
   "source": [
    "# EXPLORATORY DATA ANALYSIS DEMONSTRATION"
   ]
  },
  {
   "cell_type": "markdown",
   "id": "be7a04d8",
   "metadata": {},
   "source": [
    "# 1. Install packages:"
   ]
  },
  {
   "cell_type": "code",
   "execution_count": 1,
   "id": "2f8bc729",
   "metadata": {},
   "outputs": [
    {
     "name": "stdout",
     "output_type": "stream",
     "text": [
      "Requirement already satisfied: datasets in c:\\users\\saifu\\anaconda3\\lib\\site-packages (2.1.0)\n",
      "Requirement already satisfied: dill in c:\\users\\saifu\\anaconda3\\lib\\site-packages (from datasets) (0.3.4)\n",
      "Requirement already satisfied: requests>=2.19.0 in c:\\users\\saifu\\anaconda3\\lib\\site-packages (from datasets) (2.26.0)\n",
      "Requirement already satisfied: multiprocess in c:\\users\\saifu\\anaconda3\\lib\\site-packages (from datasets) (0.70.12.2)\n",
      "Requirement already satisfied: aiohttp in c:\\users\\saifu\\anaconda3\\lib\\site-packages (from datasets) (3.8.1)\n",
      "Note: you may need to restart the kernel to use updated packages.Requirement already satisfied: packaging in c:\\users\\saifu\\anaconda3\\lib\\site-packages (from datasets) (21.0)\n",
      "Requirement already satisfied: fsspec[http]>=2021.05.0 in c:\\users\\saifu\\anaconda3\\lib\\site-packages (from datasets) (2021.10.1)\n",
      "\n",
      "Requirement already satisfied: responses<0.19 in c:\\users\\saifu\\anaconda3\\lib\\site-packages (from datasets) (0.18.0)\n",
      "Requirement already satisfied: tqdm>=4.62.1 in c:\\users\\saifu\\anaconda3\\lib\\site-packages (from datasets) (4.62.3)\n",
      "Requirement already satisfied: pyarrow>=5.0.0 in c:\\users\\saifu\\anaconda3\\lib\\site-packages (from datasets) (7.0.0)\n",
      "Requirement already satisfied: xxhash in c:\\users\\saifu\\anaconda3\\lib\\site-packages (from datasets) (3.0.0)\n",
      "Requirement already satisfied: pandas in c:\\users\\saifu\\anaconda3\\lib\\site-packages (from datasets) (1.3.4)\n",
      "Requirement already satisfied: huggingface-hub<1.0.0,>=0.1.0 in c:\\users\\saifu\\anaconda3\\lib\\site-packages (from datasets) (0.5.1)\n",
      "Requirement already satisfied: numpy>=1.17 in c:\\users\\saifu\\anaconda3\\lib\\site-packages (from datasets) (1.20.3)\n",
      "Requirement already satisfied: pyyaml in c:\\users\\saifu\\anaconda3\\lib\\site-packages (from huggingface-hub<1.0.0,>=0.1.0->datasets) (6.0)\n",
      "Requirement already satisfied: typing-extensions>=3.7.4.3 in c:\\users\\saifu\\anaconda3\\lib\\site-packages (from huggingface-hub<1.0.0,>=0.1.0->datasets) (3.10.0.2)\n",
      "Requirement already satisfied: filelock in c:\\users\\saifu\\anaconda3\\lib\\site-packages (from huggingface-hub<1.0.0,>=0.1.0->datasets) (3.3.1)\n",
      "Requirement already satisfied: pyparsing>=2.0.2 in c:\\users\\saifu\\anaconda3\\lib\\site-packages (from packaging->datasets) (3.0.4)\n",
      "Requirement already satisfied: certifi>=2017.4.17 in c:\\users\\saifu\\anaconda3\\lib\\site-packages (from requests>=2.19.0->datasets) (2021.10.8)\n",
      "Requirement already satisfied: idna<4,>=2.5 in c:\\users\\saifu\\anaconda3\\lib\\site-packages (from requests>=2.19.0->datasets) (3.2)\n",
      "Requirement already satisfied: urllib3<1.27,>=1.21.1 in c:\\users\\saifu\\anaconda3\\lib\\site-packages (from requests>=2.19.0->datasets) (1.26.7)\n",
      "Requirement already satisfied: charset-normalizer~=2.0.0 in c:\\users\\saifu\\anaconda3\\lib\\site-packages (from requests>=2.19.0->datasets) (2.0.4)\n",
      "Requirement already satisfied: colorama in c:\\users\\saifu\\anaconda3\\lib\\site-packages (from tqdm>=4.62.1->datasets) (0.4.4)\n",
      "Requirement already satisfied: async-timeout<5.0,>=4.0.0a3 in c:\\users\\saifu\\anaconda3\\lib\\site-packages (from aiohttp->datasets) (4.0.2)\n",
      "Requirement already satisfied: aiosignal>=1.1.2 in c:\\users\\saifu\\anaconda3\\lib\\site-packages (from aiohttp->datasets) (1.2.0)\n",
      "Requirement already satisfied: frozenlist>=1.1.1 in c:\\users\\saifu\\anaconda3\\lib\\site-packages (from aiohttp->datasets) (1.3.0)\n",
      "Requirement already satisfied: yarl<2.0,>=1.0 in c:\\users\\saifu\\anaconda3\\lib\\site-packages (from aiohttp->datasets) (1.7.2)\n",
      "Requirement already satisfied: attrs>=17.3.0 in c:\\users\\saifu\\anaconda3\\lib\\site-packages (from aiohttp->datasets) (20.3.0)\n",
      "Requirement already satisfied: multidict<7.0,>=4.5 in c:\\users\\saifu\\anaconda3\\lib\\site-packages (from aiohttp->datasets) (6.0.2)\n",
      "Requirement already satisfied: python-dateutil>=2.7.3 in c:\\users\\saifu\\anaconda3\\lib\\site-packages (from pandas->datasets) (2.8.2)\n",
      "Requirement already satisfied: pytz>=2017.3 in c:\\users\\saifu\\anaconda3\\lib\\site-packages (from pandas->datasets) (2021.3)\n",
      "Requirement already satisfied: six>=1.5 in c:\\users\\saifu\\anaconda3\\lib\\site-packages (from python-dateutil>=2.7.3->pandas->datasets) (1.16.0)\n"
     ]
    }
   ],
   "source": [
    "pip install datasets\n"
   ]
  },
  {
   "cell_type": "markdown",
   "id": "d08d01c7",
   "metadata": {},
   "source": [
    "# 2. Import Libraries:"
   ]
  },
  {
   "cell_type": "code",
   "execution_count": 2,
   "id": "4e73e0e8",
   "metadata": {},
   "outputs": [],
   "source": [
    "import pandas as pd\n",
    "import matplotlib.pyplot as plt\n",
    "import datasets"
   ]
  },
  {
   "cell_type": "markdown",
   "id": "af5b11d0",
   "metadata": {},
   "source": [
    "# 3. Load Dataset:"
   ]
  },
  {
   "cell_type": "markdown",
   "id": "48fa92e5",
   "metadata": {},
   "source": [
    "### a. load dataset: "
   ]
  },
  {
   "cell_type": "code",
   "execution_count": 3,
   "id": "063bc0a6",
   "metadata": {},
   "outputs": [
    {
     "name": "stderr",
     "output_type": "stream",
     "text": [
      "Reusing dataset math_dataset (C:\\Users\\saifu\\.cache\\huggingface\\datasets\\math_dataset\\algebra__polynomial_roots\\1.0.0\\55e25f9e337098b6760efcf2bbc1c0c9a11d94266b33ad3435bfdcd25aff0377)\n",
      "100%|██████████| 2/2 [00:00<00:00, 53.68it/s]\n"
     ]
    }
   ],
   "source": [
    "from datasets import load_dataset\n",
    "\n",
    "dataset = load_dataset(\"math_dataset\", \"algebra__polynomial_roots\")"
   ]
  },
  {
   "cell_type": "markdown",
   "id": "d6ca57fd",
   "metadata": {},
   "source": [
    "### b. length of data-set:"
   ]
  },
  {
   "cell_type": "code",
   "execution_count": 4,
   "id": "d98c161e",
   "metadata": {},
   "outputs": [
    {
     "name": "stdout",
     "output_type": "stream",
     "text": [
      "4443\n"
     ]
    }
   ],
   "source": [
    "print(len(datasets.list_datasets())) "
   ]
  },
  {
   "cell_type": "markdown",
   "id": "4a1a40ad",
   "metadata": {},
   "source": [
    "### c. save selected mathematical function to disk: "
   ]
  },
  {
   "cell_type": "code",
   "execution_count": 5,
   "id": "f10bdb6e",
   "metadata": {},
   "outputs": [
    {
     "data": {
      "text/plain": [
       "DatasetDict({\n",
       "    train: Dataset({\n",
       "        features: ['question', 'answer'],\n",
       "        num_rows: 1999998\n",
       "    })\n",
       "    test: Dataset({\n",
       "        features: ['question', 'answer'],\n",
       "        num_rows: 10000\n",
       "    })\n",
       "})"
      ]
     },
     "execution_count": 5,
     "metadata": {},
     "output_type": "execute_result"
    }
   ],
   "source": [
    "dataset.save_to_disk('algera_poly_roots') # chosen mathematical function: 'Algebra Polynomial Roots'\n",
    "dataset"
   ]
  },
  {
   "cell_type": "markdown",
   "id": "a2f580f1",
   "metadata": {},
   "source": [
    "# 4. Exploratory Data Analysis:"
   ]
  },
  {
   "cell_type": "markdown",
   "id": "339a2c0b",
   "metadata": {},
   "source": [
    "### a. Dataset description:"
   ]
  },
  {
   "cell_type": "code",
   "execution_count": 6,
   "id": "5a5c1f87",
   "metadata": {},
   "outputs": [
    {
     "name": "stdout",
     "output_type": "stream",
     "text": [
      "\n",
      "Mathematics database.\n",
      "\n",
      "This dataset code generates mathematical question and answer pairs,\n",
      "from a range of question types at roughly school-level difficulty.\n",
      "This is designed to test the mathematical learning and algebraic\n",
      "reasoning skills of learning models.\n",
      "\n",
      "Original paper: Analysing Mathematical Reasoning Abilities of Neural Models\n",
      "(Saxton, Grefenstette, Hill, Kohli).\n",
      "\n",
      "Example usage:\n",
      "train_examples, val_examples = datasets.load_dataset(\n",
      "    'math_dataset/arithmetic__mul',\n",
      "    split=['train', 'test'],\n",
      "    as_supervised=True)\n",
      "\n"
     ]
    }
   ],
   "source": [
    "\n",
    "raw_train = dataset[\"train\"]\n",
    "print(raw_train.info.description)"
   ]
  },
  {
   "cell_type": "markdown",
   "id": "5dcba2a9",
   "metadata": {},
   "source": [
    "### b. check 'train-set' :"
   ]
  },
  {
   "cell_type": "code",
   "execution_count": 7,
   "id": "2c348871",
   "metadata": {},
   "outputs": [
    {
     "name": "stdout",
     "output_type": "stream",
     "text": [
      "{'question': \"b'Find j such that -3*j**4/2 - 4908*j**3 + 1407291*j**2/2 - 25725420*j + 70976088 = 0.\\\\n'\", 'answer': \"b'-3411, 3, 68\\\\n'\"}\n"
     ]
    }
   ],
   "source": [
    "\n",
    "print(raw_train[-1])"
   ]
  },
  {
   "cell_type": "markdown",
   "id": "6cc1b12d",
   "metadata": {},
   "source": [
    "### c. check 'train-set' feature :"
   ]
  },
  {
   "cell_type": "code",
   "execution_count": 8,
   "id": "1a7beca1",
   "metadata": {},
   "outputs": [
    {
     "name": "stdout",
     "output_type": "stream",
     "text": [
      "{'question': Value(dtype='string', id=None), 'answer': Value(dtype='string', id=None)}\n"
     ]
    }
   ],
   "source": [
    "\n",
    "print(raw_train.features)"
   ]
  },
  {
   "cell_type": "markdown",
   "id": "2ef5add1",
   "metadata": {},
   "source": [
    "### d. check 'test-set' :"
   ]
  },
  {
   "cell_type": "code",
   "execution_count": 9,
   "id": "6c281005",
   "metadata": {},
   "outputs": [
    {
     "name": "stdout",
     "output_type": "stream",
     "text": [
      "{'question': \"b'Find d, given that 50*d**5/11 - 449140*d**4/11 - 1887262*d**3/11 - 72016*d**2/11 + 1078472*d/11 - 26144 = 0.\\\\n'\", 'answer': \"b'-4, -1, 2/5, 8987\\\\n'\"}\n"
     ]
    }
   ],
   "source": [
    "\n",
    "raw_test = dataset[\"test\"]\n",
    "print(raw_test[-1])"
   ]
  },
  {
   "cell_type": "markdown",
   "id": "c2d1a79f",
   "metadata": {},
   "source": [
    "### e. check 'test-set' feature :"
   ]
  },
  {
   "cell_type": "code",
   "execution_count": 10,
   "id": "6560d3b1",
   "metadata": {},
   "outputs": [
    {
     "name": "stdout",
     "output_type": "stream",
     "text": [
      "{'question': Value(dtype='string', id=None), 'answer': Value(dtype='string', id=None)}\n"
     ]
    }
   ],
   "source": [
    "\n",
    "print(raw_test.features)"
   ]
  },
  {
   "cell_type": "markdown",
   "id": "857f8dc2",
   "metadata": {},
   "source": [
    "### f. create pandas data-frame:"
   ]
  },
  {
   "cell_type": "code",
   "execution_count": 11,
   "id": "85d76694",
   "metadata": {},
   "outputs": [],
   "source": [
    "\n",
    "train_df = dataset[\"train\"].to_pandas()\n",
    "test_df = dataset[\"test\"].to_pandas()"
   ]
  },
  {
   "cell_type": "markdown",
   "id": "e9d92dec",
   "metadata": {},
   "source": [
    "### g. summary of 'train' data-frame:"
   ]
  },
  {
   "cell_type": "code",
   "execution_count": 12,
   "id": "d916d5a7",
   "metadata": {},
   "outputs": [
    {
     "name": "stdout",
     "output_type": "stream",
     "text": [
      "<class 'pandas.core.frame.DataFrame'>\n",
      "RangeIndex: 1999998 entries, 0 to 1999997\n",
      "Data columns (total 2 columns):\n",
      " #   Column    Dtype \n",
      "---  ------    ----- \n",
      " 0   question  object\n",
      " 1   answer    object\n",
      "dtypes: object(2)\n",
      "memory usage: 30.5+ MB\n"
     ]
    }
   ],
   "source": [
    "\n",
    "train_df.info()"
   ]
  },
  {
   "cell_type": "markdown",
   "id": "bb2f12dd",
   "metadata": {},
   "source": [
    "### h. summary of 'test' data-frame:"
   ]
  },
  {
   "cell_type": "code",
   "execution_count": 13,
   "id": "71c10951",
   "metadata": {},
   "outputs": [
    {
     "name": "stdout",
     "output_type": "stream",
     "text": [
      "<class 'pandas.core.frame.DataFrame'>\n",
      "RangeIndex: 10000 entries, 0 to 9999\n",
      "Data columns (total 2 columns):\n",
      " #   Column    Non-Null Count  Dtype \n",
      "---  ------    --------------  ----- \n",
      " 0   question  10000 non-null  object\n",
      " 1   answer    10000 non-null  object\n",
      "dtypes: object(2)\n",
      "memory usage: 156.4+ KB\n"
     ]
    }
   ],
   "source": [
    "test_df.info()"
   ]
  },
  {
   "cell_type": "markdown",
   "id": "701609c3",
   "metadata": {},
   "source": [
    "### i. check first 5-rows of 'train' data-frame:"
   ]
  },
  {
   "cell_type": "code",
   "execution_count": 14,
   "id": "8ab6694c",
   "metadata": {},
   "outputs": [
    {
     "data": {
      "text/html": [
       "<div>\n",
       "<style scoped>\n",
       "    .dataframe tbody tr th:only-of-type {\n",
       "        vertical-align: middle;\n",
       "    }\n",
       "\n",
       "    .dataframe tbody tr th {\n",
       "        vertical-align: top;\n",
       "    }\n",
       "\n",
       "    .dataframe thead th {\n",
       "        text-align: right;\n",
       "    }\n",
       "</style>\n",
       "<table border=\"1\" class=\"dataframe\">\n",
       "  <thead>\n",
       "    <tr style=\"text-align: right;\">\n",
       "      <th></th>\n",
       "      <th>question</th>\n",
       "      <th>answer</th>\n",
       "    </tr>\n",
       "  </thead>\n",
       "  <tbody>\n",
       "    <tr>\n",
       "      <th>0</th>\n",
       "      <td>b'Factor 2*k**2/5 - 44598*k/5 + 44596/5.\\n'</td>\n",
       "      <td>b'2*(k - 22298)*(k - 1)/5\\n'</td>\n",
       "    </tr>\n",
       "    <tr>\n",
       "      <th>1</th>\n",
       "      <td>b'Solve -3*w**3 + 1374*w**2 - 5433*w - 6810 = ...</td>\n",
       "      <td>b'-1, 5, 454\\n'</td>\n",
       "    </tr>\n",
       "    <tr>\n",
       "      <th>2</th>\n",
       "      <td>b'Suppose 27*u**3 - 7329*u**2 = 0. Calculate u...</td>\n",
       "      <td>b'0, 2443/9\\n'</td>\n",
       "    </tr>\n",
       "    <tr>\n",
       "      <th>3</th>\n",
       "      <td>b'Suppose -5*t**2 - 72845*t - 291300 = 0. Calc...</td>\n",
       "      <td>b'-14565, -4\\n'</td>\n",
       "    </tr>\n",
       "    <tr>\n",
       "      <th>4</th>\n",
       "      <td>b'Let -2*g**3 - 448774*g**2 - 897542*g - 44877...</td>\n",
       "      <td>b'-224385, -1\\n'</td>\n",
       "    </tr>\n",
       "  </tbody>\n",
       "</table>\n",
       "</div>"
      ],
      "text/plain": [
       "                                            question  \\\n",
       "0        b'Factor 2*k**2/5 - 44598*k/5 + 44596/5.\\n'   \n",
       "1  b'Solve -3*w**3 + 1374*w**2 - 5433*w - 6810 = ...   \n",
       "2  b'Suppose 27*u**3 - 7329*u**2 = 0. Calculate u...   \n",
       "3  b'Suppose -5*t**2 - 72845*t - 291300 = 0. Calc...   \n",
       "4  b'Let -2*g**3 - 448774*g**2 - 897542*g - 44877...   \n",
       "\n",
       "                         answer  \n",
       "0  b'2*(k - 22298)*(k - 1)/5\\n'  \n",
       "1               b'-1, 5, 454\\n'  \n",
       "2                b'0, 2443/9\\n'  \n",
       "3               b'-14565, -4\\n'  \n",
       "4              b'-224385, -1\\n'  "
      ]
     },
     "execution_count": 14,
     "metadata": {},
     "output_type": "execute_result"
    }
   ],
   "source": [
    "\n",
    "train_df.head(5)\n"
   ]
  },
  {
   "cell_type": "markdown",
   "id": "e000af5f",
   "metadata": {},
   "source": [
    "### j. take random sample from 'train' data-frame:"
   ]
  },
  {
   "cell_type": "code",
   "execution_count": 15,
   "id": "af76fc14",
   "metadata": {},
   "outputs": [
    {
     "data": {
      "text/html": [
       "<div>\n",
       "<style scoped>\n",
       "    .dataframe tbody tr th:only-of-type {\n",
       "        vertical-align: middle;\n",
       "    }\n",
       "\n",
       "    .dataframe tbody tr th {\n",
       "        vertical-align: top;\n",
       "    }\n",
       "\n",
       "    .dataframe thead th {\n",
       "        text-align: right;\n",
       "    }\n",
       "</style>\n",
       "<table border=\"1\" class=\"dataframe\">\n",
       "  <thead>\n",
       "    <tr style=\"text-align: right;\">\n",
       "      <th></th>\n",
       "      <th>question</th>\n",
       "      <th>answer</th>\n",
       "    </tr>\n",
       "  </thead>\n",
       "  <tbody>\n",
       "    <tr>\n",
       "      <th>525671</th>\n",
       "      <td>b'Find q, given that -q**5/3 - 11*q**4/3 - 35*...</td>\n",
       "      <td>b'-5, -4, -3, 0, 1\\n'</td>\n",
       "    </tr>\n",
       "    <tr>\n",
       "      <th>1102137</th>\n",
       "      <td>b'Factor 4*a**3 - 16*a**2 + 16*a.\\n'</td>\n",
       "      <td>b'4*a*(a - 2)**2\\n'</td>\n",
       "    </tr>\n",
       "    <tr>\n",
       "      <th>937244</th>\n",
       "      <td>b'Factor 4*p**4 - 4*p**3 - 147*p**2 - 142*p - ...</td>\n",
       "      <td>b'(p - 7)*(p + 5)*(2*p + 1)**2\\n'</td>\n",
       "    </tr>\n",
       "    <tr>\n",
       "      <th>1107363</th>\n",
       "      <td>b'Suppose -s**3 - 32*s**2/5 + 23*s/5 + 14/5 = ...</td>\n",
       "      <td>b'-7, -2/5, 1\\n'</td>\n",
       "    </tr>\n",
       "    <tr>\n",
       "      <th>541258</th>\n",
       "      <td>b'Determine a so that -2948*a**2/7 + 103156*a/...</td>\n",
       "      <td>b'-6/737, 35\\n'</td>\n",
       "    </tr>\n",
       "  </tbody>\n",
       "</table>\n",
       "</div>"
      ],
      "text/plain": [
       "                                                  question  \\\n",
       "525671   b'Find q, given that -q**5/3 - 11*q**4/3 - 35*...   \n",
       "1102137               b'Factor 4*a**3 - 16*a**2 + 16*a.\\n'   \n",
       "937244   b'Factor 4*p**4 - 4*p**3 - 147*p**2 - 142*p - ...   \n",
       "1107363  b'Suppose -s**3 - 32*s**2/5 + 23*s/5 + 14/5 = ...   \n",
       "541258   b'Determine a so that -2948*a**2/7 + 103156*a/...   \n",
       "\n",
       "                                    answer  \n",
       "525671               b'-5, -4, -3, 0, 1\\n'  \n",
       "1102137                b'4*a*(a - 2)**2\\n'  \n",
       "937244   b'(p - 7)*(p + 5)*(2*p + 1)**2\\n'  \n",
       "1107363                   b'-7, -2/5, 1\\n'  \n",
       "541258                     b'-6/737, 35\\n'  "
      ]
     },
     "execution_count": 15,
     "metadata": {},
     "output_type": "execute_result"
    }
   ],
   "source": [
    "\n",
    "train_df.sample(5) "
   ]
  },
  {
   "cell_type": "markdown",
   "id": "cd87841e",
   "metadata": {},
   "source": [
    "### k. check first 5-rows of 'test' data-frame:"
   ]
  },
  {
   "cell_type": "code",
   "execution_count": 16,
   "id": "490f231f",
   "metadata": {},
   "outputs": [
    {
     "data": {
      "text/html": [
       "<div>\n",
       "<style scoped>\n",
       "    .dataframe tbody tr th:only-of-type {\n",
       "        vertical-align: middle;\n",
       "    }\n",
       "\n",
       "    .dataframe tbody tr th {\n",
       "        vertical-align: top;\n",
       "    }\n",
       "\n",
       "    .dataframe thead th {\n",
       "        text-align: right;\n",
       "    }\n",
       "</style>\n",
       "<table border=\"1\" class=\"dataframe\">\n",
       "  <thead>\n",
       "    <tr style=\"text-align: right;\">\n",
       "      <th></th>\n",
       "      <th>question</th>\n",
       "      <th>answer</th>\n",
       "    </tr>\n",
       "  </thead>\n",
       "  <tbody>\n",
       "    <tr>\n",
       "      <th>0</th>\n",
       "      <td>b'Factor -4*p**3/5 - 98596*p**2/5 + 118344*p.\\n'</td>\n",
       "      <td>b'-4*p*(p - 6)*(p + 24655)/5\\n'</td>\n",
       "    </tr>\n",
       "    <tr>\n",
       "      <th>1</th>\n",
       "      <td>b'Determine u, given that 2*u**4 + 88*u**3 - 2...</td>\n",
       "      <td>b'-142, -2, 6, 94\\n'</td>\n",
       "    </tr>\n",
       "    <tr>\n",
       "      <th>2</th>\n",
       "      <td>b'Let -5*f**4 + 510*f**3 - 13415*f**2 + 20910*...</td>\n",
       "      <td>b'-2, 4, 47, 53\\n'</td>\n",
       "    </tr>\n",
       "    <tr>\n",
       "      <th>3</th>\n",
       "      <td>b'Solve i**5/8 - 25*i**4/8 - 13*i**3/2 + 175*i...</td>\n",
       "      <td>b'-6, 0, 1, 4, 26\\n'</td>\n",
       "    </tr>\n",
       "    <tr>\n",
       "      <th>4</th>\n",
       "      <td>b'Solve -3*m**5 - 56385*m**4 - 264628734*m**3 ...</td>\n",
       "      <td>b'-9403, 1, 5\\n'</td>\n",
       "    </tr>\n",
       "  </tbody>\n",
       "</table>\n",
       "</div>"
      ],
      "text/plain": [
       "                                            question  \\\n",
       "0   b'Factor -4*p**3/5 - 98596*p**2/5 + 118344*p.\\n'   \n",
       "1  b'Determine u, given that 2*u**4 + 88*u**3 - 2...   \n",
       "2  b'Let -5*f**4 + 510*f**3 - 13415*f**2 + 20910*...   \n",
       "3  b'Solve i**5/8 - 25*i**4/8 - 13*i**3/2 + 175*i...   \n",
       "4  b'Solve -3*m**5 - 56385*m**4 - 264628734*m**3 ...   \n",
       "\n",
       "                            answer  \n",
       "0  b'-4*p*(p - 6)*(p + 24655)/5\\n'  \n",
       "1             b'-142, -2, 6, 94\\n'  \n",
       "2               b'-2, 4, 47, 53\\n'  \n",
       "3             b'-6, 0, 1, 4, 26\\n'  \n",
       "4                 b'-9403, 1, 5\\n'  "
      ]
     },
     "execution_count": 16,
     "metadata": {},
     "output_type": "execute_result"
    }
   ],
   "source": [
    "test_df.head(5)"
   ]
  },
  {
   "cell_type": "markdown",
   "id": "b2749154",
   "metadata": {},
   "source": [
    "### l. take random sample from 'test' data-frame"
   ]
  },
  {
   "cell_type": "code",
   "execution_count": 17,
   "id": "58ecff0d",
   "metadata": {},
   "outputs": [
    {
     "data": {
      "text/html": [
       "<div>\n",
       "<style scoped>\n",
       "    .dataframe tbody tr th:only-of-type {\n",
       "        vertical-align: middle;\n",
       "    }\n",
       "\n",
       "    .dataframe tbody tr th {\n",
       "        vertical-align: top;\n",
       "    }\n",
       "\n",
       "    .dataframe thead th {\n",
       "        text-align: right;\n",
       "    }\n",
       "</style>\n",
       "<table border=\"1\" class=\"dataframe\">\n",
       "  <thead>\n",
       "    <tr style=\"text-align: right;\">\n",
       "      <th></th>\n",
       "      <th>question</th>\n",
       "      <th>answer</th>\n",
       "    </tr>\n",
       "  </thead>\n",
       "  <tbody>\n",
       "    <tr>\n",
       "      <th>5824</th>\n",
       "      <td>b'Determine v so that -3*v**2/4 + 10155*v/4 + ...</td>\n",
       "      <td>b'-308, 3693\\n'</td>\n",
       "    </tr>\n",
       "    <tr>\n",
       "      <th>1549</th>\n",
       "      <td>b'Factor 2*w**3/7 - 4750*w**2/7 + 28414*w/7 + ...</td>\n",
       "      <td>b'2*(w - 2369)*(w - 7)*(w + 1)/7\\n'</td>\n",
       "    </tr>\n",
       "    <tr>\n",
       "      <th>7626</th>\n",
       "      <td>b'Factor 2*t**4/3 - 8234*t**3/3 + 178970*t**2 ...</td>\n",
       "      <td>b'2*t*(t - 4051)*(t - 33)**2/3\\n'</td>\n",
       "    </tr>\n",
       "    <tr>\n",
       "      <th>3523</th>\n",
       "      <td>b'Determine c so that 3*c**5/4 + 492*c**4 + 35...</td>\n",
       "      <td>b'-417, -9, 0, 187\\n'</td>\n",
       "    </tr>\n",
       "    <tr>\n",
       "      <th>6761</th>\n",
       "      <td>b'Factor 4*b**3 + 1751136*b**2 + 1751124*b - 3...</td>\n",
       "      <td>b'4*(b - 1)*(b + 2)*(b + 437783)\\n'</td>\n",
       "    </tr>\n",
       "  </tbody>\n",
       "</table>\n",
       "</div>"
      ],
      "text/plain": [
       "                                               question  \\\n",
       "5824  b'Determine v so that -3*v**2/4 + 10155*v/4 + ...   \n",
       "1549  b'Factor 2*w**3/7 - 4750*w**2/7 + 28414*w/7 + ...   \n",
       "7626  b'Factor 2*t**4/3 - 8234*t**3/3 + 178970*t**2 ...   \n",
       "3523  b'Determine c so that 3*c**5/4 + 492*c**4 + 35...   \n",
       "6761  b'Factor 4*b**3 + 1751136*b**2 + 1751124*b - 3...   \n",
       "\n",
       "                                   answer  \n",
       "5824                      b'-308, 3693\\n'  \n",
       "1549  b'2*(w - 2369)*(w - 7)*(w + 1)/7\\n'  \n",
       "7626    b'2*t*(t - 4051)*(t - 33)**2/3\\n'  \n",
       "3523                b'-417, -9, 0, 187\\n'  \n",
       "6761  b'4*(b - 1)*(b + 2)*(b + 437783)\\n'  "
      ]
     },
     "execution_count": 17,
     "metadata": {},
     "output_type": "execute_result"
    }
   ],
   "source": [
    "test_df.sample(5)"
   ]
  },
  {
   "cell_type": "markdown",
   "id": "d32dd7d1",
   "metadata": {},
   "source": [
    "### m. compare 'train' & 'test' data-frame by concatenation:"
   ]
  },
  {
   "cell_type": "code",
   "execution_count": 18,
   "id": "a129703b",
   "metadata": {},
   "outputs": [
    {
     "data": {
      "text/html": [
       "<div>\n",
       "<style scoped>\n",
       "    .dataframe tbody tr th:only-of-type {\n",
       "        vertical-align: middle;\n",
       "    }\n",
       "\n",
       "    .dataframe tbody tr th {\n",
       "        vertical-align: top;\n",
       "    }\n",
       "\n",
       "    .dataframe thead th {\n",
       "        text-align: right;\n",
       "    }\n",
       "</style>\n",
       "<table border=\"1\" class=\"dataframe\">\n",
       "  <thead>\n",
       "    <tr style=\"text-align: right;\">\n",
       "      <th></th>\n",
       "      <th>question</th>\n",
       "      <th>answer</th>\n",
       "      <th>question</th>\n",
       "      <th>answer</th>\n",
       "    </tr>\n",
       "  </thead>\n",
       "  <tbody>\n",
       "    <tr>\n",
       "      <th>0</th>\n",
       "      <td>b'Factor 2*k**2/5 - 44598*k/5 + 44596/5.\\n'</td>\n",
       "      <td>b'2*(k - 22298)*(k - 1)/5\\n'</td>\n",
       "      <td>b'Factor -4*p**3/5 - 98596*p**2/5 + 118344*p.\\n'</td>\n",
       "      <td>b'-4*p*(p - 6)*(p + 24655)/5\\n'</td>\n",
       "    </tr>\n",
       "    <tr>\n",
       "      <th>1</th>\n",
       "      <td>b'Solve -3*w**3 + 1374*w**2 - 5433*w - 6810 = ...</td>\n",
       "      <td>b'-1, 5, 454\\n'</td>\n",
       "      <td>b'Determine u, given that 2*u**4 + 88*u**3 - 2...</td>\n",
       "      <td>b'-142, -2, 6, 94\\n'</td>\n",
       "    </tr>\n",
       "    <tr>\n",
       "      <th>2</th>\n",
       "      <td>b'Suppose 27*u**3 - 7329*u**2 = 0. Calculate u...</td>\n",
       "      <td>b'0, 2443/9\\n'</td>\n",
       "      <td>b'Let -5*f**4 + 510*f**3 - 13415*f**2 + 20910*...</td>\n",
       "      <td>b'-2, 4, 47, 53\\n'</td>\n",
       "    </tr>\n",
       "    <tr>\n",
       "      <th>3</th>\n",
       "      <td>b'Suppose -5*t**2 - 72845*t - 291300 = 0. Calc...</td>\n",
       "      <td>b'-14565, -4\\n'</td>\n",
       "      <td>b'Solve i**5/8 - 25*i**4/8 - 13*i**3/2 + 175*i...</td>\n",
       "      <td>b'-6, 0, 1, 4, 26\\n'</td>\n",
       "    </tr>\n",
       "    <tr>\n",
       "      <th>4</th>\n",
       "      <td>b'Let -2*g**3 - 448774*g**2 - 897542*g - 44877...</td>\n",
       "      <td>b'-224385, -1\\n'</td>\n",
       "      <td>b'Solve -3*m**5 - 56385*m**4 - 264628734*m**3 ...</td>\n",
       "      <td>b'-9403, 1, 5\\n'</td>\n",
       "    </tr>\n",
       "  </tbody>\n",
       "</table>\n",
       "</div>"
      ],
      "text/plain": [
       "                                            question  \\\n",
       "0        b'Factor 2*k**2/5 - 44598*k/5 + 44596/5.\\n'   \n",
       "1  b'Solve -3*w**3 + 1374*w**2 - 5433*w - 6810 = ...   \n",
       "2  b'Suppose 27*u**3 - 7329*u**2 = 0. Calculate u...   \n",
       "3  b'Suppose -5*t**2 - 72845*t - 291300 = 0. Calc...   \n",
       "4  b'Let -2*g**3 - 448774*g**2 - 897542*g - 44877...   \n",
       "\n",
       "                         answer  \\\n",
       "0  b'2*(k - 22298)*(k - 1)/5\\n'   \n",
       "1               b'-1, 5, 454\\n'   \n",
       "2                b'0, 2443/9\\n'   \n",
       "3               b'-14565, -4\\n'   \n",
       "4              b'-224385, -1\\n'   \n",
       "\n",
       "                                            question  \\\n",
       "0   b'Factor -4*p**3/5 - 98596*p**2/5 + 118344*p.\\n'   \n",
       "1  b'Determine u, given that 2*u**4 + 88*u**3 - 2...   \n",
       "2  b'Let -5*f**4 + 510*f**3 - 13415*f**2 + 20910*...   \n",
       "3  b'Solve i**5/8 - 25*i**4/8 - 13*i**3/2 + 175*i...   \n",
       "4  b'Solve -3*m**5 - 56385*m**4 - 264628734*m**3 ...   \n",
       "\n",
       "                            answer  \n",
       "0  b'-4*p*(p - 6)*(p + 24655)/5\\n'  \n",
       "1             b'-142, -2, 6, 94\\n'  \n",
       "2               b'-2, 4, 47, 53\\n'  \n",
       "3             b'-6, 0, 1, 4, 26\\n'  \n",
       "4                 b'-9403, 1, 5\\n'  "
      ]
     },
     "execution_count": 18,
     "metadata": {},
     "output_type": "execute_result"
    }
   ],
   "source": [
    "pd.concat([train_df.head(5),test_df.head(5)], axis=1)\n"
   ]
  },
  {
   "cell_type": "markdown",
   "id": "ff4dcf1f",
   "metadata": {},
   "source": [
    "### n. check missing values of 'train' data-frame:"
   ]
  },
  {
   "cell_type": "code",
   "execution_count": 19,
   "id": "75045025",
   "metadata": {
    "scrolled": true
   },
   "outputs": [
    {
     "data": {
      "text/html": [
       "<div>\n",
       "<style scoped>\n",
       "    .dataframe tbody tr th:only-of-type {\n",
       "        vertical-align: middle;\n",
       "    }\n",
       "\n",
       "    .dataframe tbody tr th {\n",
       "        vertical-align: top;\n",
       "    }\n",
       "\n",
       "    .dataframe thead th {\n",
       "        text-align: right;\n",
       "    }\n",
       "</style>\n",
       "<table border=\"1\" class=\"dataframe\">\n",
       "  <thead>\n",
       "    <tr style=\"text-align: right;\">\n",
       "      <th></th>\n",
       "      <th>index</th>\n",
       "      <th>0</th>\n",
       "    </tr>\n",
       "  </thead>\n",
       "  <tbody>\n",
       "    <tr>\n",
       "      <th>0</th>\n",
       "      <td>question</td>\n",
       "      <td>0</td>\n",
       "    </tr>\n",
       "    <tr>\n",
       "      <th>1</th>\n",
       "      <td>answer</td>\n",
       "      <td>0</td>\n",
       "    </tr>\n",
       "  </tbody>\n",
       "</table>\n",
       "</div>"
      ],
      "text/plain": [
       "      index  0\n",
       "0  question  0\n",
       "1    answer  0"
      ]
     },
     "execution_count": 19,
     "metadata": {},
     "output_type": "execute_result"
    }
   ],
   "source": [
    "\n",
    "train_df.isnull().sum().to_frame().reset_index()\n"
   ]
  },
  {
   "cell_type": "markdown",
   "id": "a265b2b8",
   "metadata": {},
   "source": [
    "### o. check missing values of 'test' data-frame: "
   ]
  },
  {
   "cell_type": "code",
   "execution_count": 20,
   "id": "7dc7191d",
   "metadata": {},
   "outputs": [
    {
     "data": {
      "text/html": [
       "<div>\n",
       "<style scoped>\n",
       "    .dataframe tbody tr th:only-of-type {\n",
       "        vertical-align: middle;\n",
       "    }\n",
       "\n",
       "    .dataframe tbody tr th {\n",
       "        vertical-align: top;\n",
       "    }\n",
       "\n",
       "    .dataframe thead th {\n",
       "        text-align: right;\n",
       "    }\n",
       "</style>\n",
       "<table border=\"1\" class=\"dataframe\">\n",
       "  <thead>\n",
       "    <tr style=\"text-align: right;\">\n",
       "      <th></th>\n",
       "      <th>index</th>\n",
       "      <th>0</th>\n",
       "    </tr>\n",
       "  </thead>\n",
       "  <tbody>\n",
       "    <tr>\n",
       "      <th>0</th>\n",
       "      <td>question</td>\n",
       "      <td>0</td>\n",
       "    </tr>\n",
       "    <tr>\n",
       "      <th>1</th>\n",
       "      <td>answer</td>\n",
       "      <td>0</td>\n",
       "    </tr>\n",
       "  </tbody>\n",
       "</table>\n",
       "</div>"
      ],
      "text/plain": [
       "      index  0\n",
       "0  question  0\n",
       "1    answer  0"
      ]
     },
     "execution_count": 20,
     "metadata": {},
     "output_type": "execute_result"
    }
   ],
   "source": [
    "test_df.isnull().sum().to_frame().reset_index()"
   ]
  },
  {
   "cell_type": "markdown",
   "id": "fbb78bef",
   "metadata": {},
   "source": [
    "### p. drop duplicates of 'train' data-frame:"
   ]
  },
  {
   "cell_type": "code",
   "execution_count": 21,
   "id": "dc1e79f8",
   "metadata": {},
   "outputs": [
    {
     "data": {
      "text/html": [
       "<div>\n",
       "<style scoped>\n",
       "    .dataframe tbody tr th:only-of-type {\n",
       "        vertical-align: middle;\n",
       "    }\n",
       "\n",
       "    .dataframe tbody tr th {\n",
       "        vertical-align: top;\n",
       "    }\n",
       "\n",
       "    .dataframe thead th {\n",
       "        text-align: right;\n",
       "    }\n",
       "</style>\n",
       "<table border=\"1\" class=\"dataframe\">\n",
       "  <thead>\n",
       "    <tr style=\"text-align: right;\">\n",
       "      <th></th>\n",
       "      <th>index</th>\n",
       "      <th>0</th>\n",
       "    </tr>\n",
       "  </thead>\n",
       "  <tbody>\n",
       "    <tr>\n",
       "      <th>0</th>\n",
       "      <td>question</td>\n",
       "      <td>1999998</td>\n",
       "    </tr>\n",
       "    <tr>\n",
       "      <th>1</th>\n",
       "      <td>answer</td>\n",
       "      <td>1999998</td>\n",
       "    </tr>\n",
       "  </tbody>\n",
       "</table>\n",
       "</div>"
      ],
      "text/plain": [
       "      index        0\n",
       "0  question  1999998\n",
       "1    answer  1999998"
      ]
     },
     "execution_count": 21,
     "metadata": {},
     "output_type": "execute_result"
    }
   ],
   "source": [
    "train_df.drop_duplicates()\n",
    "train_count = train_df.count().to_frame().reset_index()\n",
    "#train_count.plot(kind='bar').legend('count')\n",
    "train_count"
   ]
  },
  {
   "cell_type": "markdown",
   "id": "ed742a1b",
   "metadata": {},
   "source": [
    "### q. drop duplicates of 'test' data-frame:"
   ]
  },
  {
   "cell_type": "code",
   "execution_count": 22,
   "id": "ea069720",
   "metadata": {},
   "outputs": [
    {
     "data": {
      "text/html": [
       "<div>\n",
       "<style scoped>\n",
       "    .dataframe tbody tr th:only-of-type {\n",
       "        vertical-align: middle;\n",
       "    }\n",
       "\n",
       "    .dataframe tbody tr th {\n",
       "        vertical-align: top;\n",
       "    }\n",
       "\n",
       "    .dataframe thead th {\n",
       "        text-align: right;\n",
       "    }\n",
       "</style>\n",
       "<table border=\"1\" class=\"dataframe\">\n",
       "  <thead>\n",
       "    <tr style=\"text-align: right;\">\n",
       "      <th></th>\n",
       "      <th>index</th>\n",
       "      <th>0</th>\n",
       "    </tr>\n",
       "  </thead>\n",
       "  <tbody>\n",
       "    <tr>\n",
       "      <th>0</th>\n",
       "      <td>question</td>\n",
       "      <td>10000</td>\n",
       "    </tr>\n",
       "    <tr>\n",
       "      <th>1</th>\n",
       "      <td>answer</td>\n",
       "      <td>10000</td>\n",
       "    </tr>\n",
       "  </tbody>\n",
       "</table>\n",
       "</div>"
      ],
      "text/plain": [
       "      index      0\n",
       "0  question  10000\n",
       "1    answer  10000"
      ]
     },
     "execution_count": 22,
     "metadata": {},
     "output_type": "execute_result"
    }
   ],
   "source": [
    "test_df.drop_duplicates()\n",
    "test_count = test_df.count().to_frame().reset_index()\n",
    "#test_count.plot(kind='bar').legend('count')\n",
    "test_count"
   ]
  },
  {
   "cell_type": "code",
   "execution_count": 23,
   "id": "2f10944d",
   "metadata": {},
   "outputs": [],
   "source": [
    "# pd.concat([train_count, test_count])"
   ]
  },
  {
   "cell_type": "markdown",
   "id": "2376c650",
   "metadata": {},
   "source": [
    "### r. rename columns of 'train' data-frame: "
   ]
  },
  {
   "cell_type": "code",
   "execution_count": 24,
   "id": "c1337167",
   "metadata": {},
   "outputs": [
    {
     "data": {
      "text/html": [
       "<div>\n",
       "<style scoped>\n",
       "    .dataframe tbody tr th:only-of-type {\n",
       "        vertical-align: middle;\n",
       "    }\n",
       "\n",
       "    .dataframe tbody tr th {\n",
       "        vertical-align: top;\n",
       "    }\n",
       "\n",
       "    .dataframe thead th {\n",
       "        text-align: right;\n",
       "    }\n",
       "</style>\n",
       "<table border=\"1\" class=\"dataframe\">\n",
       "  <thead>\n",
       "    <tr style=\"text-align: right;\">\n",
       "      <th></th>\n",
       "      <th>train_question</th>\n",
       "      <th>train_answer</th>\n",
       "    </tr>\n",
       "  </thead>\n",
       "  <tbody>\n",
       "    <tr>\n",
       "      <th>0</th>\n",
       "      <td>b'Factor 2*k**2/5 - 44598*k/5 + 44596/5.\\n'</td>\n",
       "      <td>b'2*(k - 22298)*(k - 1)/5\\n'</td>\n",
       "    </tr>\n",
       "    <tr>\n",
       "      <th>1</th>\n",
       "      <td>b'Solve -3*w**3 + 1374*w**2 - 5433*w - 6810 = ...</td>\n",
       "      <td>b'-1, 5, 454\\n'</td>\n",
       "    </tr>\n",
       "    <tr>\n",
       "      <th>2</th>\n",
       "      <td>b'Suppose 27*u**3 - 7329*u**2 = 0. Calculate u...</td>\n",
       "      <td>b'0, 2443/9\\n'</td>\n",
       "    </tr>\n",
       "    <tr>\n",
       "      <th>3</th>\n",
       "      <td>b'Suppose -5*t**2 - 72845*t - 291300 = 0. Calc...</td>\n",
       "      <td>b'-14565, -4\\n'</td>\n",
       "    </tr>\n",
       "    <tr>\n",
       "      <th>4</th>\n",
       "      <td>b'Let -2*g**3 - 448774*g**2 - 897542*g - 44877...</td>\n",
       "      <td>b'-224385, -1\\n'</td>\n",
       "    </tr>\n",
       "  </tbody>\n",
       "</table>\n",
       "</div>"
      ],
      "text/plain": [
       "                                      train_question  \\\n",
       "0        b'Factor 2*k**2/5 - 44598*k/5 + 44596/5.\\n'   \n",
       "1  b'Solve -3*w**3 + 1374*w**2 - 5433*w - 6810 = ...   \n",
       "2  b'Suppose 27*u**3 - 7329*u**2 = 0. Calculate u...   \n",
       "3  b'Suppose -5*t**2 - 72845*t - 291300 = 0. Calc...   \n",
       "4  b'Let -2*g**3 - 448774*g**2 - 897542*g - 44877...   \n",
       "\n",
       "                   train_answer  \n",
       "0  b'2*(k - 22298)*(k - 1)/5\\n'  \n",
       "1               b'-1, 5, 454\\n'  \n",
       "2                b'0, 2443/9\\n'  \n",
       "3               b'-14565, -4\\n'  \n",
       "4              b'-224385, -1\\n'  "
      ]
     },
     "execution_count": 24,
     "metadata": {},
     "output_type": "execute_result"
    }
   ],
   "source": [
    "train_df.rename(columns= {'question':'train_question', 'answer':'train_answer'}, inplace=True)\n",
    "train_df.head(5)\n"
   ]
  },
  {
   "cell_type": "markdown",
   "id": "168f91c0",
   "metadata": {},
   "source": [
    "### s. rename columns of 'test' data-frame:"
   ]
  },
  {
   "cell_type": "code",
   "execution_count": 25,
   "id": "7717e12d",
   "metadata": {},
   "outputs": [
    {
     "data": {
      "text/html": [
       "<div>\n",
       "<style scoped>\n",
       "    .dataframe tbody tr th:only-of-type {\n",
       "        vertical-align: middle;\n",
       "    }\n",
       "\n",
       "    .dataframe tbody tr th {\n",
       "        vertical-align: top;\n",
       "    }\n",
       "\n",
       "    .dataframe thead th {\n",
       "        text-align: right;\n",
       "    }\n",
       "</style>\n",
       "<table border=\"1\" class=\"dataframe\">\n",
       "  <thead>\n",
       "    <tr style=\"text-align: right;\">\n",
       "      <th></th>\n",
       "      <th>test_question</th>\n",
       "      <th>test_answer</th>\n",
       "    </tr>\n",
       "  </thead>\n",
       "  <tbody>\n",
       "    <tr>\n",
       "      <th>0</th>\n",
       "      <td>b'Factor -4*p**3/5 - 98596*p**2/5 + 118344*p.\\n'</td>\n",
       "      <td>b'-4*p*(p - 6)*(p + 24655)/5\\n'</td>\n",
       "    </tr>\n",
       "    <tr>\n",
       "      <th>1</th>\n",
       "      <td>b'Determine u, given that 2*u**4 + 88*u**3 - 2...</td>\n",
       "      <td>b'-142, -2, 6, 94\\n'</td>\n",
       "    </tr>\n",
       "    <tr>\n",
       "      <th>2</th>\n",
       "      <td>b'Let -5*f**4 + 510*f**3 - 13415*f**2 + 20910*...</td>\n",
       "      <td>b'-2, 4, 47, 53\\n'</td>\n",
       "    </tr>\n",
       "    <tr>\n",
       "      <th>3</th>\n",
       "      <td>b'Solve i**5/8 - 25*i**4/8 - 13*i**3/2 + 175*i...</td>\n",
       "      <td>b'-6, 0, 1, 4, 26\\n'</td>\n",
       "    </tr>\n",
       "    <tr>\n",
       "      <th>4</th>\n",
       "      <td>b'Solve -3*m**5 - 56385*m**4 - 264628734*m**3 ...</td>\n",
       "      <td>b'-9403, 1, 5\\n'</td>\n",
       "    </tr>\n",
       "  </tbody>\n",
       "</table>\n",
       "</div>"
      ],
      "text/plain": [
       "                                       test_question  \\\n",
       "0   b'Factor -4*p**3/5 - 98596*p**2/5 + 118344*p.\\n'   \n",
       "1  b'Determine u, given that 2*u**4 + 88*u**3 - 2...   \n",
       "2  b'Let -5*f**4 + 510*f**3 - 13415*f**2 + 20910*...   \n",
       "3  b'Solve i**5/8 - 25*i**4/8 - 13*i**3/2 + 175*i...   \n",
       "4  b'Solve -3*m**5 - 56385*m**4 - 264628734*m**3 ...   \n",
       "\n",
       "                       test_answer  \n",
       "0  b'-4*p*(p - 6)*(p + 24655)/5\\n'  \n",
       "1             b'-142, -2, 6, 94\\n'  \n",
       "2               b'-2, 4, 47, 53\\n'  \n",
       "3             b'-6, 0, 1, 4, 26\\n'  \n",
       "4                 b'-9403, 1, 5\\n'  "
      ]
     },
     "execution_count": 25,
     "metadata": {},
     "output_type": "execute_result"
    }
   ],
   "source": [
    "test_df.rename(columns= {'question':'test_question', 'answer':'test_answer'}, inplace=True)\n",
    "test_df.head(5)"
   ]
  },
  {
   "cell_type": "markdown",
   "id": "5c62b2a4",
   "metadata": {},
   "source": [
    "### t. generate descriptive statistics 'train' data-frame"
   ]
  },
  {
   "cell_type": "code",
   "execution_count": 26,
   "id": "89765f80",
   "metadata": {},
   "outputs": [
    {
     "data": {
      "text/html": [
       "<div>\n",
       "<style scoped>\n",
       "    .dataframe tbody tr th:only-of-type {\n",
       "        vertical-align: middle;\n",
       "    }\n",
       "\n",
       "    .dataframe tbody tr th {\n",
       "        vertical-align: top;\n",
       "    }\n",
       "\n",
       "    .dataframe thead th {\n",
       "        text-align: right;\n",
       "    }\n",
       "</style>\n",
       "<table border=\"1\" class=\"dataframe\">\n",
       "  <thead>\n",
       "    <tr style=\"text-align: right;\">\n",
       "      <th></th>\n",
       "      <th>train_question</th>\n",
       "      <th>train_answer</th>\n",
       "    </tr>\n",
       "  </thead>\n",
       "  <tbody>\n",
       "    <tr>\n",
       "      <th>count</th>\n",
       "      <td>1999998</td>\n",
       "      <td>1999998</td>\n",
       "    </tr>\n",
       "    <tr>\n",
       "      <th>unique</th>\n",
       "      <td>1997171</td>\n",
       "      <td>1693252</td>\n",
       "    </tr>\n",
       "    <tr>\n",
       "      <th>top</th>\n",
       "      <td>b'Factor 2*n**2 + 4*n.\\n'</td>\n",
       "      <td>b'-1, 0, 1\\n'</td>\n",
       "    </tr>\n",
       "    <tr>\n",
       "      <th>freq</th>\n",
       "      <td>4</td>\n",
       "      <td>1264</td>\n",
       "    </tr>\n",
       "  </tbody>\n",
       "</table>\n",
       "</div>"
      ],
      "text/plain": [
       "                   train_question   train_answer\n",
       "count                     1999998        1999998\n",
       "unique                    1997171        1693252\n",
       "top     b'Factor 2*n**2 + 4*n.\\n'  b'-1, 0, 1\\n'\n",
       "freq                            4           1264"
      ]
     },
     "execution_count": 26,
     "metadata": {},
     "output_type": "execute_result"
    }
   ],
   "source": [
    "train_df.describe()"
   ]
  },
  {
   "cell_type": "markdown",
   "id": "a73b0fac",
   "metadata": {},
   "source": [
    "### u. generate descriptive statistics 'test' data-frame:"
   ]
  },
  {
   "cell_type": "code",
   "execution_count": 27,
   "id": "f2e090e6",
   "metadata": {},
   "outputs": [
    {
     "data": {
      "text/html": [
       "<div>\n",
       "<style scoped>\n",
       "    .dataframe tbody tr th:only-of-type {\n",
       "        vertical-align: middle;\n",
       "    }\n",
       "\n",
       "    .dataframe tbody tr th {\n",
       "        vertical-align: top;\n",
       "    }\n",
       "\n",
       "    .dataframe thead th {\n",
       "        text-align: right;\n",
       "    }\n",
       "</style>\n",
       "<table border=\"1\" class=\"dataframe\">\n",
       "  <thead>\n",
       "    <tr style=\"text-align: right;\">\n",
       "      <th></th>\n",
       "      <th>test_question</th>\n",
       "      <th>test_answer</th>\n",
       "    </tr>\n",
       "  </thead>\n",
       "  <tbody>\n",
       "    <tr>\n",
       "      <th>count</th>\n",
       "      <td>10000</td>\n",
       "      <td>10000</td>\n",
       "    </tr>\n",
       "    <tr>\n",
       "      <th>unique</th>\n",
       "      <td>10000</td>\n",
       "      <td>10000</td>\n",
       "    </tr>\n",
       "    <tr>\n",
       "      <th>top</th>\n",
       "      <td>b'Factor -4*p**3/5 - 98596*p**2/5 + 118344*p.\\n'</td>\n",
       "      <td>b'-4*p*(p - 6)*(p + 24655)/5\\n'</td>\n",
       "    </tr>\n",
       "    <tr>\n",
       "      <th>freq</th>\n",
       "      <td>1</td>\n",
       "      <td>1</td>\n",
       "    </tr>\n",
       "  </tbody>\n",
       "</table>\n",
       "</div>"
      ],
      "text/plain": [
       "                                           test_question  \\\n",
       "count                                              10000   \n",
       "unique                                             10000   \n",
       "top     b'Factor -4*p**3/5 - 98596*p**2/5 + 118344*p.\\n'   \n",
       "freq                                                   1   \n",
       "\n",
       "                            test_answer  \n",
       "count                             10000  \n",
       "unique                            10000  \n",
       "top     b'-4*p*(p - 6)*(p + 24655)/5\\n'  \n",
       "freq                                  1  "
      ]
     },
     "execution_count": 27,
     "metadata": {},
     "output_type": "execute_result"
    }
   ],
   "source": [
    "test_df.describe()"
   ]
  },
  {
   "cell_type": "markdown",
   "id": "c9a04c9d",
   "metadata": {},
   "source": [
    "### v. count distinct elements in 'train' data-frame:"
   ]
  },
  {
   "cell_type": "code",
   "execution_count": 28,
   "id": "01496202",
   "metadata": {},
   "outputs": [
    {
     "data": {
      "text/html": [
       "<div>\n",
       "<style scoped>\n",
       "    .dataframe tbody tr th:only-of-type {\n",
       "        vertical-align: middle;\n",
       "    }\n",
       "\n",
       "    .dataframe tbody tr th {\n",
       "        vertical-align: top;\n",
       "    }\n",
       "\n",
       "    .dataframe thead th {\n",
       "        text-align: right;\n",
       "    }\n",
       "</style>\n",
       "<table border=\"1\" class=\"dataframe\">\n",
       "  <thead>\n",
       "    <tr style=\"text-align: right;\">\n",
       "      <th></th>\n",
       "      <th>0</th>\n",
       "    </tr>\n",
       "  </thead>\n",
       "  <tbody>\n",
       "    <tr>\n",
       "      <th>train_question</th>\n",
       "      <td>1997171</td>\n",
       "    </tr>\n",
       "    <tr>\n",
       "      <th>train_answer</th>\n",
       "      <td>1693252</td>\n",
       "    </tr>\n",
       "  </tbody>\n",
       "</table>\n",
       "</div>"
      ],
      "text/plain": [
       "                      0\n",
       "train_question  1997171\n",
       "train_answer    1693252"
      ]
     },
     "execution_count": 28,
     "metadata": {},
     "output_type": "execute_result"
    }
   ],
   "source": [
    "train_unique = train_df.nunique().to_frame()\n",
    "train_unique"
   ]
  },
  {
   "cell_type": "markdown",
   "id": "6e05f2d7",
   "metadata": {},
   "source": [
    "### w. count distinct elements in 'test' data-frame"
   ]
  },
  {
   "cell_type": "code",
   "execution_count": 29,
   "id": "0b67066a",
   "metadata": {},
   "outputs": [
    {
     "data": {
      "text/html": [
       "<div>\n",
       "<style scoped>\n",
       "    .dataframe tbody tr th:only-of-type {\n",
       "        vertical-align: middle;\n",
       "    }\n",
       "\n",
       "    .dataframe tbody tr th {\n",
       "        vertical-align: top;\n",
       "    }\n",
       "\n",
       "    .dataframe thead th {\n",
       "        text-align: right;\n",
       "    }\n",
       "</style>\n",
       "<table border=\"1\" class=\"dataframe\">\n",
       "  <thead>\n",
       "    <tr style=\"text-align: right;\">\n",
       "      <th></th>\n",
       "      <th>0</th>\n",
       "    </tr>\n",
       "  </thead>\n",
       "  <tbody>\n",
       "    <tr>\n",
       "      <th>test_question</th>\n",
       "      <td>10000</td>\n",
       "    </tr>\n",
       "    <tr>\n",
       "      <th>test_answer</th>\n",
       "      <td>10000</td>\n",
       "    </tr>\n",
       "  </tbody>\n",
       "</table>\n",
       "</div>"
      ],
      "text/plain": [
       "                   0\n",
       "test_question  10000\n",
       "test_answer    10000"
      ]
     },
     "execution_count": 29,
     "metadata": {},
     "output_type": "execute_result"
    }
   ],
   "source": [
    "test_unique = test_df.nunique().to_frame()\n",
    "test_unique"
   ]
  },
  {
   "cell_type": "markdown",
   "id": "196a8ee4",
   "metadata": {},
   "source": [
    "### x. visualization: compare unique values 'train' & 'test' data-frame"
   ]
  },
  {
   "cell_type": "code",
   "execution_count": 30,
   "id": "22d280ef",
   "metadata": {},
   "outputs": [
    {
     "data": {
      "text/plain": [
       "<matplotlib.legend.Legend at 0x22387ef5250>"
      ]
     },
     "execution_count": 30,
     "metadata": {},
     "output_type": "execute_result"
    },
    {
     "data": {
      "image/png": "[encoded data removed]",
      "text/plain": [
       "<Figure size 1440x432 with 2 Axes>"
      ]
     },
     "metadata": {
      "needs_background": "light"
     },
     "output_type": "display_data"
    }
   ],
   "source": [
    "fig, axes=plt.subplots(nrows=1, ncols=2)\n",
    "train_unique.plot(ax=axes[0], kind='bar', title='train unique', figsize=(20,6)).legend('count')\n",
    "test_unique.plot(ax=axes[1], kind='bar', title='test unique', figsize=(20,6)).legend('count')\n"
   ]
  },
  {
   "cell_type": "markdown",
   "id": "1f07e79f",
   "metadata": {},
   "source": [
    "### y. save 'train' data-frame as 'csv.' :"
   ]
  },
  {
   "cell_type": "code",
   "execution_count": 31,
   "id": "70d911e6",
   "metadata": {},
   "outputs": [],
   "source": [
    "train_df.to_csv('Train.csv')"
   ]
  },
  {
   "cell_type": "markdown",
   "id": "ea7b4818",
   "metadata": {},
   "source": [
    "### z. save 'test' data-frame as 'csv'. :"
   ]
  },
  {
   "cell_type": "code",
   "execution_count": 32,
   "id": "365978a3",
   "metadata": {},
   "outputs": [],
   "source": [
    "test_df.to_csv('Test.csv')"
   ]
  }
 ],
 "metadata": {
  "kernelspec": {
   "display_name": "Python 3 (ipykernel)",
   "language": "python",
   "name": "python3"
  },
  "language_info": {
   "codemirror_mode": {
    "name": "ipython",
    "version": 3
   },
   "file_extension": ".py",
   "mimetype": "text/x-python",
   "name": "python",
   "nbconvert_exporter": "python",
   "pygments_lexer": "ipython3",
   "version": "3.9.7"
  }
 },
 "nbformat": 4,
 "nbformat_minor": 5
}
